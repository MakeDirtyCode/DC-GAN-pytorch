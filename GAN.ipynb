{
 "cells": [
  {
   "cell_type": "code",
   "execution_count": 1,
   "metadata": {},
   "outputs": [],
   "source": [
    "import argparse\n",
    "\n",
    "parser = argparse.ArgumentParser(\"DCGAN\")\n",
    "\n",
    "parser.add_argument('--dataset_dir', type=str, default='./celeba')\n",
    "parser.add_argument('--result_dir', type=str, default='./celeba_result')\n",
    "\n",
    "parser.add_argument('--batch_size', type=int, default=32)\n",
    "parser.add_argument('--nepoch', type=int, default=20)\n",
    "parser.add_argument('--nz', type=int, default=100) # number of noise dimension\n",
    "parser.add_argument('--nc', type=int, default=3) # number of result channel\n",
    "parser.add_argument('--lr', type=float, default=0.0002)\n",
    "betas = (0.0, 0.99) # adam optimizer beta1, beta2\n",
    "\n",
    "config, _ = parser.parse_known_args()"
   ]
  },
  {
   "cell_type": "code",
   "execution_count": 2,
   "metadata": {},
   "outputs": [],
   "source": [
    "import torch\n",
    "import torch.nn as nn\n",
    "import torch.optim as optim\n",
    "import torchvision.utils as vutils\n",
    "import torch.utils.data\n",
    "import torchvision.datasets as dset\n",
    "import torchvision.transforms as transforms\n",
    "from torch.autograd import Variable"
   ]
  },
  {
   "cell_type": "code",
   "execution_count": 3,
   "metadata": {},
   "outputs": [],
   "source": [
    "class Generator(nn.Module):\n",
    "    def __init__(self):\n",
    "        super(Generator, self).__init__()\n",
    "        self.main = nn.Sequential(\n",
    "            nn.ConvTranspose2d(config.nz, 512, 4, 1, 0, bias=False),\n",
    "            nn.BatchNorm2d(512),\n",
    "            nn.ReLU(True),\n",
    "            nn.ConvTranspose2d(512, 256, 4, 2, 1, bias=False),\n",
    "            nn.BatchNorm2d(256),\n",
    "            nn.ReLU(True),\n",
    "            nn.ConvTranspose2d(256, 128, 4, 2, 1, bias=False),\n",
    "            nn.BatchNorm2d(128),\n",
    "            nn.ReLU(True),\n",
    "            nn.ConvTranspose2d(128, 64, 4, 2, 1, bias=False),\n",
    "            nn.BatchNorm2d(64),\n",
    "            nn.ReLU(True),\n",
    "            nn.ConvTranspose2d(64, config.nc, 4, 2, 1, bias=False),\n",
    "            nn.Tanh(),\n",
    "        )\n",
    "    \n",
    "    def forward(self, x):\n",
    "        return self.main(x)"
   ]
  },
  {
   "cell_type": "code",
   "execution_count": 4,
   "metadata": {},
   "outputs": [],
   "source": [
    "class Discriminator(nn.Module):\n",
    "    def __init__(self):\n",
    "        super(Discriminator, self).__init__()\n",
    "        self.main = nn.Sequential(\n",
    "            nn.Conv2d(config.nc, 64, 4, 2, 1, bias=False),\n",
    "            nn.LeakyReLU(0.2, inplace=True),\n",
    "            nn.Conv2d(64, 128, 4, 2, 1, bias=False),\n",
    "            nn.BatchNorm2d(128),\n",
    "            nn.LeakyReLU(0.2, inplace=True),\n",
    "            nn.Conv2d(128, 256, 4, 2, 1, bias=False),\n",
    "            nn.BatchNorm2d(256),\n",
    "            nn.LeakyReLU(0.2, inplace=True),\n",
    "            nn.Conv2d(256, 512, 4, 2, 1, bias=False),\n",
    "            nn.BatchNorm2d(512),\n",
    "            nn.LeakyReLU(0.2, inplace=True),\n",
    "            nn.Conv2d(512, 1, 4, 1, 0, bias=False),\n",
    "        )\n",
    "    \n",
    "    def forward(self, x):\n",
    "        return self.main(x).view(-1, 1)"
   ]
  },
  {
   "cell_type": "code",
   "execution_count": null,
   "metadata": {},
   "outputs": [],
   "source": [
    "class Trainer:\n",
    "    def __init__(self):\n",
    "        self.generator = Generator()\n",
    "        self.discriminator = Discriminator()\n",
    "        self.loss = nn.MSELoss()\n",
    "        self.optimizer_g = optim.Adam(self.generator.parameters(), lr=config.lr, betas=betas)\n",
    "        self.optimizer_d = optim.Adam(self.discriminator.parameters(), lr=config.lr, betas=betas)\n",
    "        \n",
    "        self.generator.cuda()\n",
    "        self.discriminator.cuda()\n",
    "        self.loss.cuda()        \n",
    "        \n",
    "    def train(self, dataloader):\n",
    "        noise = Variable(torch.FloatTensor(config.batch_size, config.nz, 1, 1).cuda())\n",
    "        label_real = Variable(torch.FloatTensor(config.batch_size, 1).fill_(1).cuda())\n",
    "        label_fake = Variable(torch.FloatTensor(config.batch_size, 1).fill_(0).cuda())\n",
    "        for epoch in range(config.nepoch):\n",
    "            for i, (data, _) in enumerate(dataloader, 0):\n",
    "                # train discriminator\n",
    "                self.discriminator.zero_grad()\n",
    "\n",
    "                batch_size = data.size(0)\n",
    "                label_real.data.resize(batch_size, 1).fill_(1)\n",
    "                label_fake.data.resize(batch_size, 1).fill_(0)\n",
    "                noise.data.resize_(batch_size, config.nz, 1, 1).normal_(0, 1)\n",
    "                \n",
    "                real = Variable(data.cuda())\n",
    "                d_real = self.discriminator(real)\n",
    "\n",
    "                fake = self.generator(noise)\n",
    "                d_fake = self.discriminator(fake.detach()) # not update generator\n",
    "                \n",
    "                d_loss = self.loss(d_real, label_real) + self.loss(d_fake, label_fake) # real label\n",
    "                d_loss.backward()\n",
    "                self.optimizer_d.step()\n",
    "\n",
    "                # train generator\n",
    "                self.generator.zero_grad()\n",
    "                d_fake = self.discriminator(fake)\n",
    "                g_loss = self.loss(d_fake, label_real) # trick the fake into being real\n",
    "                g_loss.backward()\n",
    "                self.optimizer_g.step(  )   \n",
    "            vutils.save_image(fake.data, '{}/result_epoch_{:03d}.png'.format(config.result_dir, epoch), normalize=True)"
   ]
  },
  {
   "cell_type": "code",
   "execution_count": null,
   "metadata": {},
   "outputs": [
    {
     "name": "stderr",
     "output_type": "stream",
     "text": [
      "C:\\Users\\user\\Anaconda3\\lib\\site-packages\\torch\\tensor.py:255: UserWarning: non-inplace resize is deprecated\n",
      "  warnings.warn(\"non-inplace resize is deprecated\")\n"
     ]
    }
   ],
   "source": [
    "dataset = dset.ImageFolder(config.dataset_dir, transform=transforms.Compose([\n",
    "    transforms.CenterCrop(178),\n",
    "    transforms.Resize(64),\n",
    "    transforms.ToTensor(),\n",
    "    transforms.Normalize((0.5, 0.5, 0.5), (0.5, 0.5, 0.5))\n",
    "]))\n",
    "dataloader = torch.utils.data.DataLoader(dataset, batch_size=config.batch_size, shuffle=True)\n",
    "                           \n",
    "trainer = Trainer()\n",
    "trainer.train(dataloader)"
   ]
  },
  {
   "cell_type": "code",
   "execution_count": null,
   "metadata": {},
   "outputs": [],
   "source": []
  }
 ],
 "metadata": {
  "kernelspec": {
   "display_name": "Python 3",
   "language": "python",
   "name": "python3"
  },
  "language_info": {
   "codemirror_mode": {
    "name": "ipython",
    "version": 3
   },
   "file_extension": ".py",
   "mimetype": "text/x-python",
   "name": "python",
   "nbconvert_exporter": "python",
   "pygments_lexer": "ipython3",
   "version": "3.6.4"
  }
 },
 "nbformat": 4,
 "nbformat_minor": 2
}
